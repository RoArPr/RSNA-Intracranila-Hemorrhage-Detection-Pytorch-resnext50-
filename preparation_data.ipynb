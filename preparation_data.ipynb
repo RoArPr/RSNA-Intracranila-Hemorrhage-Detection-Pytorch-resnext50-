{
 "cells": [
  {
   "cell_type": "raw",
   "metadata": {},
   "source": [
    "The original dataset is unbalanced: 577159 any_0 vs 97103 any_1. For training purposes, I will create a balanced dataset, and I will keep a validation set"
   ]
  },
  {
   "cell_type": "code",
   "execution_count": 21,
   "metadata": {},
   "outputs": [],
   "source": [
    "#Import libraries\n",
    "\n",
    "import numpy as np \n",
    "import pandas as pd "
   ]
  },
  {
   "cell_type": "code",
   "execution_count": 22,
   "metadata": {},
   "outputs": [
    {
     "data": {
      "text/plain": [
       "'\\nINPUT_PATH = \"../input/rsna-intracranial-hemorrhage-detection/\"\\ntrain = pd.read_csv(INPUT_PATH +\"stage_1_train.csv\")\\nlabel = train.Label.values\\ntrain = train.ID.str.rsplit(\"_\", n=1, expand=True)\\ntrain.loc[:, \"label\"] = label\\ntrain = train.rename({0: \"id\", 1: \"subtype\"}, axis=1)\\ntrain.to_csv(\\'rsna_train.csv\\')\\n'"
      ]
     },
     "execution_count": 22,
     "metadata": {},
     "output_type": "execute_result"
    }
   ],
   "source": [
    "#Preparation of the original csv was processed as follows, in order to separate id from subtpye;\n",
    "#finally it was saved in rsna_train.csv\n",
    "'''\n",
    "INPUT_PATH = \"../input/rsna-intracranial-hemorrhage-detection/\"\n",
    "train = pd.read_csv(INPUT_PATH +\"stage_1_train.csv\")\n",
    "label = train.Label.values\n",
    "train = train.ID.str.rsplit(\"_\", n=1, expand=True)\n",
    "train.loc[:, \"label\"] = label\n",
    "train = train.rename({0: \"id\", 1: \"subtype\"}, axis=1)\n",
    "train.to_csv('rsna_train.csv')\n",
    "'''"
   ]
  },
  {
   "cell_type": "code",
   "execution_count": 23,
   "metadata": {},
   "outputs": [],
   "source": [
    "# Train_all and train_any1 datasets have excluded the validation dataset\n",
    "'''\n",
    "#make a list for each group\n",
    "l_any_1=list(traindf[traindf['any']==1].index)\n",
    "l_any_0=list(traindf[traindf['any']==0].index)\n",
    "l_epidural=list(traindf[traindf['epidural']==1].index)\n",
    "l_intraparenchymal=list(traindf[traindf['intraparenchymal']==1].index)\n",
    "l_intraventricular=list(traindf[traindf['intraventricular']==1].index)\n",
    "l_subarachnoid=list(traindf[traindf['subarachnoid']==1].index)\n",
    "l_subdural=list(traindf[traindf['subdural']==1].index)\n",
    "\n",
    "#I made dataframes only any_0 and only any_1; one subset was kept for validation in each group\n",
    "\n",
    "train_any0=traindf[traindf.index.isin(l_any_0[:576000])]\n",
    "train_any0=train_any0.reset_index()\n",
    "\n",
    "#make some lists  with  all any1 examples of each group and all epidural \n",
    "l_any1=l_epidural\n",
    "more_examples=l_intraparenchymal[:20000]+l_intraparenchymal[20200:]+l_intraventricular[:20000]+l_intraventricular[20200:]+l_subarachnoid[:20000]+l_subarachnoid[20200:]+l_subdural[:20000]+l_subdural[20200:]\n",
    "for e in more_examples:\n",
    "    if e not in l_any1:\n",
    "        l_any1.append(e)\n",
    "train_any1=traindf[traindf.index.isin(l_any1)]\n",
    "\n",
    "#the complete dataset - the datasets were saved\n",
    "train_all=pd.concat([train_any0,train_any1],  ignore_index=True)\n",
    "'''\n",
    "any1=pd.read_csv('train_any1.csv')\n",
    "\n",
    "any_all=pd.read_csv('train_all.csv')"
   ]
  },
  {
   "cell_type": "code",
   "execution_count": 24,
   "metadata": {},
   "outputs": [
    {
     "data": {
      "text/plain": [
       "96711"
      ]
     },
     "execution_count": 24,
     "metadata": {},
     "output_type": "execute_result"
    }
   ],
   "source": [
    "#select 96711 healthy patients randomly\n",
    "healthy_patients = any_all[any_all[\"any\"]==0].index.values\n",
    "healthy_patients_selection = np.random.choice(healthy_patients, size=96711, replace=False)\n",
    "len(healthy_patients_selection)"
   ]
  },
  {
   "cell_type": "code",
   "execution_count": 25,
   "metadata": {},
   "outputs": [],
   "source": [
    "df_any0=any_all.loc[list(healthy_patients_selection)].copy()\n",
    "df_any0=df_any0.reset_index()\n"
   ]
  },
  {
   "cell_type": "code",
   "execution_count": 26,
   "metadata": {},
   "outputs": [
    {
     "data": {
      "text/html": [
       "<div>\n",
       "<style scoped>\n",
       "    .dataframe tbody tr th:only-of-type {\n",
       "        vertical-align: middle;\n",
       "    }\n",
       "\n",
       "    .dataframe tbody tr th {\n",
       "        vertical-align: top;\n",
       "    }\n",
       "\n",
       "    .dataframe thead th {\n",
       "        text-align: right;\n",
       "    }\n",
       "</style>\n",
       "<table border=\"1\" class=\"dataframe\">\n",
       "  <thead>\n",
       "    <tr style=\"text-align: right;\">\n",
       "      <th></th>\n",
       "      <th>id</th>\n",
       "      <th>any</th>\n",
       "      <th>epidural</th>\n",
       "      <th>intraparenchymal</th>\n",
       "      <th>intraventricular</th>\n",
       "      <th>subarachnoid</th>\n",
       "      <th>subdural</th>\n",
       "    </tr>\n",
       "  </thead>\n",
       "  <tbody>\n",
       "    <tr>\n",
       "      <th>0</th>\n",
       "      <td>ID_e98c2f84d</td>\n",
       "      <td>0</td>\n",
       "      <td>0</td>\n",
       "      <td>0</td>\n",
       "      <td>0</td>\n",
       "      <td>0</td>\n",
       "      <td>0</td>\n",
       "    </tr>\n",
       "    <tr>\n",
       "      <th>1</th>\n",
       "      <td>ID_e5c776522</td>\n",
       "      <td>0</td>\n",
       "      <td>0</td>\n",
       "      <td>0</td>\n",
       "      <td>0</td>\n",
       "      <td>0</td>\n",
       "      <td>0</td>\n",
       "    </tr>\n",
       "    <tr>\n",
       "      <th>2</th>\n",
       "      <td>ID_66791510a</td>\n",
       "      <td>0</td>\n",
       "      <td>0</td>\n",
       "      <td>0</td>\n",
       "      <td>0</td>\n",
       "      <td>0</td>\n",
       "      <td>0</td>\n",
       "    </tr>\n",
       "    <tr>\n",
       "      <th>3</th>\n",
       "      <td>ID_d5f8f626e</td>\n",
       "      <td>0</td>\n",
       "      <td>0</td>\n",
       "      <td>0</td>\n",
       "      <td>0</td>\n",
       "      <td>0</td>\n",
       "      <td>0</td>\n",
       "    </tr>\n",
       "    <tr>\n",
       "      <th>4</th>\n",
       "      <td>ID_f21f6ad6a</td>\n",
       "      <td>0</td>\n",
       "      <td>0</td>\n",
       "      <td>0</td>\n",
       "      <td>0</td>\n",
       "      <td>0</td>\n",
       "      <td>0</td>\n",
       "    </tr>\n",
       "  </tbody>\n",
       "</table>\n",
       "</div>"
      ],
      "text/plain": [
       "             id  any  epidural  intraparenchymal  intraventricular  \\\n",
       "0  ID_e98c2f84d    0         0                 0                 0   \n",
       "1  ID_e5c776522    0         0                 0                 0   \n",
       "2  ID_66791510a    0         0                 0                 0   \n",
       "3  ID_d5f8f626e    0         0                 0                 0   \n",
       "4  ID_f21f6ad6a    0         0                 0                 0   \n",
       "\n",
       "   subarachnoid  subdural  \n",
       "0             0         0  \n",
       "1             0         0  \n",
       "2             0         0  \n",
       "3             0         0  \n",
       "4             0         0  "
      ]
     },
     "execution_count": 26,
     "metadata": {},
     "output_type": "execute_result"
    }
   ],
   "source": [
    "df_any0.drop(labels=['index','Unnamed: 0'], axis=1, inplace=True)\n",
    "df_any0.head()"
   ]
  },
  {
   "cell_type": "code",
   "execution_count": 27,
   "metadata": {},
   "outputs": [
    {
     "data": {
      "text/html": [
       "<div>\n",
       "<style scoped>\n",
       "    .dataframe tbody tr th:only-of-type {\n",
       "        vertical-align: middle;\n",
       "    }\n",
       "\n",
       "    .dataframe tbody tr th {\n",
       "        vertical-align: top;\n",
       "    }\n",
       "\n",
       "    .dataframe thead th {\n",
       "        text-align: right;\n",
       "    }\n",
       "</style>\n",
       "<table border=\"1\" class=\"dataframe\">\n",
       "  <thead>\n",
       "    <tr style=\"text-align: right;\">\n",
       "      <th></th>\n",
       "      <th>id</th>\n",
       "      <th>any</th>\n",
       "      <th>epidural</th>\n",
       "      <th>intraparenchymal</th>\n",
       "      <th>intraventricular</th>\n",
       "      <th>subarachnoid</th>\n",
       "      <th>subdural</th>\n",
       "    </tr>\n",
       "  </thead>\n",
       "  <tbody>\n",
       "    <tr>\n",
       "      <th>0</th>\n",
       "      <td>ID_e98c2f84d</td>\n",
       "      <td>0</td>\n",
       "      <td>0</td>\n",
       "      <td>0</td>\n",
       "      <td>0</td>\n",
       "      <td>0</td>\n",
       "      <td>0</td>\n",
       "    </tr>\n",
       "    <tr>\n",
       "      <th>1</th>\n",
       "      <td>ID_e5c776522</td>\n",
       "      <td>0</td>\n",
       "      <td>0</td>\n",
       "      <td>0</td>\n",
       "      <td>0</td>\n",
       "      <td>0</td>\n",
       "      <td>0</td>\n",
       "    </tr>\n",
       "    <tr>\n",
       "      <th>2</th>\n",
       "      <td>ID_66791510a</td>\n",
       "      <td>0</td>\n",
       "      <td>0</td>\n",
       "      <td>0</td>\n",
       "      <td>0</td>\n",
       "      <td>0</td>\n",
       "      <td>0</td>\n",
       "    </tr>\n",
       "    <tr>\n",
       "      <th>3</th>\n",
       "      <td>ID_d5f8f626e</td>\n",
       "      <td>0</td>\n",
       "      <td>0</td>\n",
       "      <td>0</td>\n",
       "      <td>0</td>\n",
       "      <td>0</td>\n",
       "      <td>0</td>\n",
       "    </tr>\n",
       "    <tr>\n",
       "      <th>4</th>\n",
       "      <td>ID_f21f6ad6a</td>\n",
       "      <td>0</td>\n",
       "      <td>0</td>\n",
       "      <td>0</td>\n",
       "      <td>0</td>\n",
       "      <td>0</td>\n",
       "      <td>0</td>\n",
       "    </tr>\n",
       "  </tbody>\n",
       "</table>\n",
       "</div>"
      ],
      "text/plain": [
       "             id  any  epidural  intraparenchymal  intraventricular  \\\n",
       "0  ID_e98c2f84d    0         0                 0                 0   \n",
       "1  ID_e5c776522    0         0                 0                 0   \n",
       "2  ID_66791510a    0         0                 0                 0   \n",
       "3  ID_d5f8f626e    0         0                 0                 0   \n",
       "4  ID_f21f6ad6a    0         0                 0                 0   \n",
       "\n",
       "   subarachnoid  subdural  \n",
       "0             0         0  \n",
       "1             0         0  \n",
       "2             0         0  \n",
       "3             0         0  \n",
       "4             0         0  "
      ]
     },
     "execution_count": 27,
     "metadata": {},
     "output_type": "execute_result"
    }
   ],
   "source": [
    "train_all=pd.concat([df_any0,any1],  ignore_index=True)\n",
    "train_all.head()"
   ]
  },
  {
   "cell_type": "code",
   "execution_count": 28,
   "metadata": {},
   "outputs": [],
   "source": [
    "#train_all.to_csv('train_50a.csv')"
   ]
  },
  {
   "cell_type": "code",
   "execution_count": null,
   "metadata": {},
   "outputs": [],
   "source": []
  }
 ],
 "metadata": {
  "kernelspec": {
   "display_name": "Python 3",
   "language": "python",
   "name": "python3"
  },
  "language_info": {
   "codemirror_mode": {
    "name": "ipython",
    "version": 3
   },
   "file_extension": ".py",
   "mimetype": "text/x-python",
   "name": "python",
   "nbconvert_exporter": "python",
   "pygments_lexer": "ipython3",
   "version": "3.7.1"
  }
 },
 "nbformat": 4,
 "nbformat_minor": 2
}
